{
 "cells": [
  {
   "cell_type": "code",
   "execution_count": 1,
   "metadata": {},
   "outputs": [],
   "source": [
    "import matplotlib.pyplot as plt\n",
    "import osmnx as ox\n",
    "import igraph as ig\n",
    "import pandas as pd\n",
    "import networkx as nx\n",
    "import numpy as np\n",
    "\n",
    "from itertools import product\n",
    "import multiprocessing as mp\n",
    "from pylab import MaxNLocator\n",
    "import random as rd\n",
    "from IPython.display import clear_output\n",
    "import scipy"
   ]
  },
  {
   "cell_type": "code",
   "execution_count": 2,
   "metadata": {},
   "outputs": [
    {
     "data": {
      "text/html": [
       "<div>\n",
       "<style scoped>\n",
       "    .dataframe tbody tr th:only-of-type {\n",
       "        vertical-align: middle;\n",
       "    }\n",
       "\n",
       "    .dataframe tbody tr th {\n",
       "        vertical-align: top;\n",
       "    }\n",
       "\n",
       "    .dataframe thead th {\n",
       "        text-align: right;\n",
       "    }\n",
       "</style>\n",
       "<table border=\"1\" class=\"dataframe\">\n",
       "  <thead>\n",
       "    <tr style=\"text-align: right;\">\n",
       "      <th></th>\n",
       "      <th>L from paths</th>\n",
       "    </tr>\n",
       "  </thead>\n",
       "  <tbody>\n",
       "    <tr>\n",
       "      <th>0</th>\n",
       "      <td>[((6378899315, 65303541), 31.0, 0, True), ((65...</td>\n",
       "    </tr>\n",
       "    <tr>\n",
       "      <th>1</th>\n",
       "      <td>[((65343907, 65312056), 92.0, 0, False), ((653...</td>\n",
       "    </tr>\n",
       "    <tr>\n",
       "      <th>2</th>\n",
       "      <td>[((65362368, 65359704), 69.0, 0, False), ((653...</td>\n",
       "    </tr>\n",
       "    <tr>\n",
       "      <th>3</th>\n",
       "      <td>[((4062847056, 258922103), 78.0, 0, False), ((...</td>\n",
       "    </tr>\n",
       "    <tr>\n",
       "      <th>4</th>\n",
       "      <td>[((3978797439, 258967897), 140.0, 0, False), (...</td>\n",
       "    </tr>\n",
       "    <tr>\n",
       "      <th>...</th>\n",
       "      <td>...</td>\n",
       "    </tr>\n",
       "    <tr>\n",
       "      <th>9264</th>\n",
       "      <td>[((65295293, 65295289), 136.0, 0, False), ((65...</td>\n",
       "    </tr>\n",
       "    <tr>\n",
       "      <th>9265</th>\n",
       "      <td>[((1196841579, 1196848008), 28.0, 0, False), (...</td>\n",
       "    </tr>\n",
       "    <tr>\n",
       "      <th>9266</th>\n",
       "      <td>[((65302256, 65319774), 224.0, 0, False), ((65...</td>\n",
       "    </tr>\n",
       "    <tr>\n",
       "      <th>9267</th>\n",
       "      <td>[((65314578, 65304270), 41.0, 0, False), ((653...</td>\n",
       "    </tr>\n",
       "    <tr>\n",
       "      <th>9268</th>\n",
       "      <td>[((65314572, 65375419), 94.0, 0, False), ((653...</td>\n",
       "    </tr>\n",
       "  </tbody>\n",
       "</table>\n",
       "<p>91865 rows × 1 columns</p>\n",
       "</div>"
      ],
      "text/plain": [
       "                                           L from paths\n",
       "0     [((6378899315, 65303541), 31.0, 0, True), ((65...\n",
       "1     [((65343907, 65312056), 92.0, 0, False), ((653...\n",
       "2     [((65362368, 65359704), 69.0, 0, False), ((653...\n",
       "3     [((4062847056, 258922103), 78.0, 0, False), ((...\n",
       "4     [((3978797439, 258967897), 140.0, 0, False), (...\n",
       "...                                                 ...\n",
       "9264  [((65295293, 65295289), 136.0, 0, False), ((65...\n",
       "9265  [((1196841579, 1196848008), 28.0, 0, False), (...\n",
       "9266  [((65302256, 65319774), 224.0, 0, False), ((65...\n",
       "9267  [((65314578, 65304270), 41.0, 0, False), ((653...\n",
       "9268  [((65314572, 65375419), 94.0, 0, False), ((653...\n",
       "\n",
       "[91865 rows x 1 columns]"
      ]
     },
     "execution_count": 2,
     "metadata": {},
     "output_type": "execute_result"
    }
   ],
   "source": [
    "city_name='San_Francisco'\n",
    "data = pd.read_csv('/home/diogo_mota/Dropbox/Diogo_Rede_simetria/Shuffle_data/'+city_name+'_teste/'+city_name+'_FULL_fractions_shuffle.dat', \n",
    "                   index_col=0)\n",
    "data"
   ]
  },
  {
   "cell_type": "code",
   "execution_count": 3,
   "metadata": {},
   "outputs": [],
   "source": [
    "data_shuffle = pd.read_csv('/home/diogo_mota/Dropbox/Diogo_Rede_simetria/Shuffle_data/'+city_name+'_teste/'+city_name+'_FULL_100k_paths_shuffle.dat',\n",
    "                           index_col=0)"
   ]
  },
  {
   "cell_type": "code",
   "execution_count": 4,
   "metadata": {},
   "outputs": [
    {
     "data": {
      "text/html": [
       "<div>\n",
       "<style scoped>\n",
       "    .dataframe tbody tr th:only-of-type {\n",
       "        vertical-align: middle;\n",
       "    }\n",
       "\n",
       "    .dataframe tbody tr th {\n",
       "        vertical-align: top;\n",
       "    }\n",
       "\n",
       "    .dataframe thead th {\n",
       "        text-align: right;\n",
       "    }\n",
       "</style>\n",
       "<table border=\"1\" class=\"dataframe\">\n",
       "  <thead>\n",
       "    <tr style=\"text-align: right;\">\n",
       "      <th></th>\n",
       "      <th>L from paths</th>\n",
       "      <th>L from length</th>\n",
       "    </tr>\n",
       "  </thead>\n",
       "  <tbody>\n",
       "    <tr>\n",
       "      <th>0</th>\n",
       "      <td>[((6378899315, 65303541), 31.0, 0, True), ((65...</td>\n",
       "      <td>8918.0</td>\n",
       "    </tr>\n",
       "    <tr>\n",
       "      <th>1</th>\n",
       "      <td>[((65343907, 65312056), 92.0, 0, False), ((653...</td>\n",
       "      <td>8703.0</td>\n",
       "    </tr>\n",
       "    <tr>\n",
       "      <th>2</th>\n",
       "      <td>[((65362368, 65359704), 69.0, 0, False), ((653...</td>\n",
       "      <td>10560.0</td>\n",
       "    </tr>\n",
       "    <tr>\n",
       "      <th>3</th>\n",
       "      <td>[((4062847056, 258922103), 78.0, 0, False), ((...</td>\n",
       "      <td>5440.0</td>\n",
       "    </tr>\n",
       "    <tr>\n",
       "      <th>4</th>\n",
       "      <td>[((3978797439, 258967897), 140.0, 0, False), (...</td>\n",
       "      <td>8699.0</td>\n",
       "    </tr>\n",
       "    <tr>\n",
       "      <th>...</th>\n",
       "      <td>...</td>\n",
       "      <td>...</td>\n",
       "    </tr>\n",
       "    <tr>\n",
       "      <th>9264</th>\n",
       "      <td>[((65295293, 65295289), 136.0, 0, False), ((65...</td>\n",
       "      <td>8898.0</td>\n",
       "    </tr>\n",
       "    <tr>\n",
       "      <th>9265</th>\n",
       "      <td>[((1196841579, 1196848008), 28.0, 0, False), (...</td>\n",
       "      <td>2992.0</td>\n",
       "    </tr>\n",
       "    <tr>\n",
       "      <th>9266</th>\n",
       "      <td>[((65302256, 65319774), 224.0, 0, False), ((65...</td>\n",
       "      <td>5599.0</td>\n",
       "    </tr>\n",
       "    <tr>\n",
       "      <th>9267</th>\n",
       "      <td>[((65314578, 65304270), 41.0, 0, False), ((653...</td>\n",
       "      <td>14457.0</td>\n",
       "    </tr>\n",
       "    <tr>\n",
       "      <th>9268</th>\n",
       "      <td>[((65314572, 65375419), 94.0, 0, False), ((653...</td>\n",
       "      <td>8225.0</td>\n",
       "    </tr>\n",
       "  </tbody>\n",
       "</table>\n",
       "<p>91865 rows × 2 columns</p>\n",
       "</div>"
      ],
      "text/plain": [
       "                                           L from paths  L from length\n",
       "0     [((6378899315, 65303541), 31.0, 0, True), ((65...         8918.0\n",
       "1     [((65343907, 65312056), 92.0, 0, False), ((653...         8703.0\n",
       "2     [((65362368, 65359704), 69.0, 0, False), ((653...        10560.0\n",
       "3     [((4062847056, 258922103), 78.0, 0, False), ((...         5440.0\n",
       "4     [((3978797439, 258967897), 140.0, 0, False), (...         8699.0\n",
       "...                                                 ...            ...\n",
       "9264  [((65295293, 65295289), 136.0, 0, False), ((65...         8898.0\n",
       "9265  [((1196841579, 1196848008), 28.0, 0, False), (...         2992.0\n",
       "9266  [((65302256, 65319774), 224.0, 0, False), ((65...         5599.0\n",
       "9267  [((65314578, 65304270), 41.0, 0, False), ((653...        14457.0\n",
       "9268  [((65314572, 65375419), 94.0, 0, False), ((653...         8225.0\n",
       "\n",
       "[91865 rows x 2 columns]"
      ]
     },
     "execution_count": 4,
     "metadata": {},
     "output_type": "execute_result"
    }
   ],
   "source": [
    "data['L from length'] = data_shuffle['L from length']\n",
    "data"
   ]
  },
  {
   "cell_type": "code",
   "execution_count": 5,
   "metadata": {},
   "outputs": [],
   "source": [
    "L_from_paths = [(eval(data['L from paths'].iloc[i]), data['L from length'].iloc[i]) for i in range(len(data))]"
   ]
  },
  {
   "cell_type": "code",
   "execution_count": 6,
   "metadata": {},
   "outputs": [
    {
     "data": {
      "text/plain": [
       "91865"
      ]
     },
     "execution_count": 6,
     "metadata": {},
     "output_type": "execute_result"
    }
   ],
   "source": [
    "len(L_from_paths)"
   ]
  },
  {
   "cell_type": "code",
   "execution_count": 7,
   "metadata": {},
   "outputs": [],
   "source": [
    "clean_L_from_paths = [item for item in L_from_paths if len(item[0])>0] ## remove cases where origin==destination"
   ]
  },
  {
   "cell_type": "code",
   "execution_count": 8,
   "metadata": {},
   "outputs": [
    {
     "data": {
      "text/plain": [
       "91855"
      ]
     },
     "execution_count": 8,
     "metadata": {},
     "output_type": "execute_result"
    }
   ],
   "source": [
    "len(clean_L_from_paths)"
   ]
  },
  {
   "cell_type": "code",
   "execution_count": 9,
   "metadata": {},
   "outputs": [],
   "source": [
    "clean_paths_list = [val[0] for val in clean_L_from_paths]\n",
    "clean_lengths_list = [val[1] for val in clean_L_from_paths] "
   ]
  },
  {
   "cell_type": "code",
   "execution_count": 10,
   "metadata": {},
   "outputs": [],
   "source": [
    "def frac_calculator(lista):\n",
    "\n",
    "    one_way_sum = 0\n",
    "    full_sum = 0\n",
    "    for attr in lista:\n",
    "        #print(attr)\n",
    "        if attr[-1]==True:\n",
    "            one_way_sum+=attr[1]\n",
    "            full_sum+=attr[1]\n",
    "        else:\n",
    "            full_sum+=attr[1]\n",
    "\n",
    "    frac = one_way_sum/full_sum\n",
    "\n",
    "    return frac"
   ]
  },
  {
   "cell_type": "code",
   "execution_count": 11,
   "metadata": {},
   "outputs": [
    {
     "name": "stdout",
     "output_type": "stream",
     "text": [
      "91854\n"
     ]
    }
   ],
   "source": [
    "frac_l_from_list = []\n",
    "w = 0\n",
    "for path in clean_paths_list:\n",
    "    print(w)\n",
    "\n",
    "    frac_l_from = frac_calculator(path)\n",
    "    frac_l_from_list.append(frac_l_from)\n",
    "    w+=1\n",
    "    clear_output(True)\n",
    "#frac_l_to = frac_calculator(routes_attr_l_to)"
   ]
  },
  {
   "cell_type": "code",
   "execution_count": 12,
   "metadata": {},
   "outputs": [
    {
     "data": {
      "text/html": [
       "<div>\n",
       "<style scoped>\n",
       "    .dataframe tbody tr th:only-of-type {\n",
       "        vertical-align: middle;\n",
       "    }\n",
       "\n",
       "    .dataframe tbody tr th {\n",
       "        vertical-align: top;\n",
       "    }\n",
       "\n",
       "    .dataframe thead th {\n",
       "        text-align: right;\n",
       "    }\n",
       "</style>\n",
       "<table border=\"1\" class=\"dataframe\">\n",
       "  <thead>\n",
       "    <tr style=\"text-align: right;\">\n",
       "      <th></th>\n",
       "      <th>One way Fraction</th>\n",
       "      <th>L from length</th>\n",
       "    </tr>\n",
       "  </thead>\n",
       "  <tbody>\n",
       "    <tr>\n",
       "      <th>0</th>\n",
       "      <td>0.156362</td>\n",
       "      <td>8918.0</td>\n",
       "    </tr>\n",
       "    <tr>\n",
       "      <th>1</th>\n",
       "      <td>0.189776</td>\n",
       "      <td>8703.0</td>\n",
       "    </tr>\n",
       "    <tr>\n",
       "      <th>2</th>\n",
       "      <td>0.118317</td>\n",
       "      <td>10560.0</td>\n",
       "    </tr>\n",
       "    <tr>\n",
       "      <th>3</th>\n",
       "      <td>0.120169</td>\n",
       "      <td>5440.0</td>\n",
       "    </tr>\n",
       "    <tr>\n",
       "      <th>4</th>\n",
       "      <td>0.083125</td>\n",
       "      <td>8699.0</td>\n",
       "    </tr>\n",
       "    <tr>\n",
       "      <th>...</th>\n",
       "      <td>...</td>\n",
       "      <td>...</td>\n",
       "    </tr>\n",
       "    <tr>\n",
       "      <th>91850</th>\n",
       "      <td>0.123083</td>\n",
       "      <td>8898.0</td>\n",
       "    </tr>\n",
       "    <tr>\n",
       "      <th>91851</th>\n",
       "      <td>0.087125</td>\n",
       "      <td>2992.0</td>\n",
       "    </tr>\n",
       "    <tr>\n",
       "      <th>91852</th>\n",
       "      <td>0.056607</td>\n",
       "      <td>5599.0</td>\n",
       "    </tr>\n",
       "    <tr>\n",
       "      <th>91853</th>\n",
       "      <td>0.166517</td>\n",
       "      <td>14457.0</td>\n",
       "    </tr>\n",
       "    <tr>\n",
       "      <th>91854</th>\n",
       "      <td>0.151356</td>\n",
       "      <td>8225.0</td>\n",
       "    </tr>\n",
       "  </tbody>\n",
       "</table>\n",
       "<p>91855 rows × 2 columns</p>\n",
       "</div>"
      ],
      "text/plain": [
       "       One way Fraction  L from length\n",
       "0              0.156362         8918.0\n",
       "1              0.189776         8703.0\n",
       "2              0.118317        10560.0\n",
       "3              0.120169         5440.0\n",
       "4              0.083125         8699.0\n",
       "...                 ...            ...\n",
       "91850          0.123083         8898.0\n",
       "91851          0.087125         2992.0\n",
       "91852          0.056607         5599.0\n",
       "91853          0.166517        14457.0\n",
       "91854          0.151356         8225.0\n",
       "\n",
       "[91855 rows x 2 columns]"
      ]
     },
     "execution_count": 12,
     "metadata": {},
     "output_type": "execute_result"
    }
   ],
   "source": [
    "df = pd.DataFrame(zip(frac_l_from_list, clean_lengths_list), columns = ['One way Fraction', 'L from length'])\n",
    "df"
   ]
  },
  {
   "cell_type": "code",
   "execution_count": 13,
   "metadata": {},
   "outputs": [],
   "source": [
    "df.to_csv('/home/diogo_mota/Dropbox/Diogo_Rede_simetria/Shuffle_data/'+city_name+'_teste/'+city_name+'_FULL_fractions_L_data_shuffle.dat')"
   ]
  },
  {
   "cell_type": "code",
   "execution_count": null,
   "metadata": {},
   "outputs": [],
   "source": []
  }
 ],
 "metadata": {
  "kernelspec": {
   "display_name": "Python 3",
   "language": "python",
   "name": "python3"
  },
  "language_info": {
   "codemirror_mode": {
    "name": "ipython",
    "version": 3
   },
   "file_extension": ".py",
   "mimetype": "text/x-python",
   "name": "python",
   "nbconvert_exporter": "python",
   "pygments_lexer": "ipython3",
   "version": "3.8.5"
  }
 },
 "nbformat": 4,
 "nbformat_minor": 4
}
